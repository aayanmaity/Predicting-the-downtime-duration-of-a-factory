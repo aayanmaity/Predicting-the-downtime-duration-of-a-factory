{
 "cells": [
  {
   "cell_type": "code",
   "execution_count": 1,
   "metadata": {},
   "outputs": [],
   "source": [
    "# Loading the Important Libaries \n",
    "\n",
    "import os\n",
    "import pandas as pd\n",
    "import numpy as np\n",
    "\n",
    "# For Visualization\n",
    "\n",
    "import matplotlib.pyplot as plt\n",
    "import seaborn as sns\n",
    "plt.style.use('ggplot')\n",
    "\n",
    "# To Ignore Warnings \n",
    "\n",
    "import warnings\n",
    "warnings.filterwarnings('ignore')"
   ]
  },
  {
   "cell_type": "code",
   "execution_count": 2,
   "metadata": {},
   "outputs": [],
   "source": [
    "# Loading Data \n",
    "\n",
    "train_data = pd.read_csv(\"train_data.csv\")\n",
    "\n",
    "test_data = pd.read_csv(\"test_data.csv\")\n",
    "\n",
    "assembly_line_info = pd.read_csv(\"assembly_line_info.csv\")\n",
    "\n",
    "issue_info = pd.read_csv(\"issue_info.csv\")\n",
    "\n",
    "log_report_type_data = pd.read_csv(\"log_report_type_data.csv\")\n",
    "\n",
    "car_variant_data = pd.read_csv(\"car_variant_data.csv\")"
   ]
  },
  {
   "cell_type": "code",
   "execution_count": 3,
   "metadata": {},
   "outputs": [
    {
     "data": {
      "text/html": [
       "<div>\n",
       "<style scoped>\n",
       "    .dataframe tbody tr th:only-of-type {\n",
       "        vertical-align: middle;\n",
       "    }\n",
       "\n",
       "    .dataframe tbody tr th {\n",
       "        vertical-align: top;\n",
       "    }\n",
       "\n",
       "    .dataframe thead th {\n",
       "        text-align: right;\n",
       "    }\n",
       "</style>\n",
       "<table border=\"1\" class=\"dataframe\">\n",
       "  <thead>\n",
       "    <tr style=\"text-align: right;\">\n",
       "      <th></th>\n",
       "      <th>id</th>\n",
       "      <th>factory_number</th>\n",
       "      <th>downtime_duration</th>\n",
       "    </tr>\n",
       "  </thead>\n",
       "  <tbody>\n",
       "    <tr>\n",
       "      <th>0</th>\n",
       "      <td>13366</td>\n",
       "      <td>factory_number_415</td>\n",
       "      <td>1</td>\n",
       "    </tr>\n",
       "    <tr>\n",
       "      <th>1</th>\n",
       "      <td>6783</td>\n",
       "      <td>factory_number_474</td>\n",
       "      <td>0</td>\n",
       "    </tr>\n",
       "    <tr>\n",
       "      <th>2</th>\n",
       "      <td>9519</td>\n",
       "      <td>factory_number_931</td>\n",
       "      <td>1</td>\n",
       "    </tr>\n",
       "    <tr>\n",
       "      <th>3</th>\n",
       "      <td>10202</td>\n",
       "      <td>factory_number_700</td>\n",
       "      <td>1</td>\n",
       "    </tr>\n",
       "    <tr>\n",
       "      <th>4</th>\n",
       "      <td>4555</td>\n",
       "      <td>factory_number_600</td>\n",
       "      <td>2</td>\n",
       "    </tr>\n",
       "  </tbody>\n",
       "</table>\n",
       "</div>"
      ],
      "text/plain": [
       "      id      factory_number  downtime_duration\n",
       "0  13366  factory_number_415                  1\n",
       "1   6783  factory_number_474                  0\n",
       "2   9519  factory_number_931                  1\n",
       "3  10202  factory_number_700                  1\n",
       "4   4555  factory_number_600                  2"
      ]
     },
     "execution_count": 3,
     "metadata": {},
     "output_type": "execute_result"
    }
   ],
   "source": [
    "train_data.head()"
   ]
  },
  {
   "cell_type": "code",
   "execution_count": 4,
   "metadata": {},
   "outputs": [
    {
     "data": {
      "text/html": [
       "<div>\n",
       "<style scoped>\n",
       "    .dataframe tbody tr th:only-of-type {\n",
       "        vertical-align: middle;\n",
       "    }\n",
       "\n",
       "    .dataframe tbody tr th {\n",
       "        vertical-align: top;\n",
       "    }\n",
       "\n",
       "    .dataframe thead th {\n",
       "        text-align: right;\n",
       "    }\n",
       "</style>\n",
       "<table border=\"1\" class=\"dataframe\">\n",
       "  <thead>\n",
       "    <tr style=\"text-align: right;\">\n",
       "      <th></th>\n",
       "      <th>id</th>\n",
       "      <th>factory_number</th>\n",
       "    </tr>\n",
       "  </thead>\n",
       "  <tbody>\n",
       "    <tr>\n",
       "      <th>0</th>\n",
       "      <td>3340</td>\n",
       "      <td>factory_number_344</td>\n",
       "    </tr>\n",
       "    <tr>\n",
       "      <th>1</th>\n",
       "      <td>14067</td>\n",
       "      <td>factory_number_933</td>\n",
       "    </tr>\n",
       "    <tr>\n",
       "      <th>2</th>\n",
       "      <td>1134</td>\n",
       "      <td>factory_number_16</td>\n",
       "    </tr>\n",
       "    <tr>\n",
       "      <th>3</th>\n",
       "      <td>27</td>\n",
       "      <td>factory_number_793</td>\n",
       "    </tr>\n",
       "    <tr>\n",
       "      <th>4</th>\n",
       "      <td>9793</td>\n",
       "      <td>factory_number_344</td>\n",
       "    </tr>\n",
       "  </tbody>\n",
       "</table>\n",
       "</div>"
      ],
      "text/plain": [
       "      id      factory_number\n",
       "0   3340  factory_number_344\n",
       "1  14067  factory_number_933\n",
       "2   1134   factory_number_16\n",
       "3     27  factory_number_793\n",
       "4   9793  factory_number_344"
      ]
     },
     "execution_count": 4,
     "metadata": {},
     "output_type": "execute_result"
    }
   ],
   "source": [
    "test_data.head()"
   ]
  },
  {
   "cell_type": "code",
   "execution_count": 5,
   "metadata": {},
   "outputs": [
    {
     "data": {
      "text/html": [
       "<div>\n",
       "<style scoped>\n",
       "    .dataframe tbody tr th:only-of-type {\n",
       "        vertical-align: middle;\n",
       "    }\n",
       "\n",
       "    .dataframe tbody tr th {\n",
       "        vertical-align: top;\n",
       "    }\n",
       "\n",
       "    .dataframe thead th {\n",
       "        text-align: right;\n",
       "    }\n",
       "</style>\n",
       "<table border=\"1\" class=\"dataframe\">\n",
       "  <thead>\n",
       "    <tr style=\"text-align: right;\">\n",
       "      <th></th>\n",
       "      <th>id</th>\n",
       "      <th>assembly_line_type</th>\n",
       "    </tr>\n",
       "  </thead>\n",
       "  <tbody>\n",
       "    <tr>\n",
       "      <th>0</th>\n",
       "      <td>6597</td>\n",
       "      <td>assembly_line_type_8</td>\n",
       "    </tr>\n",
       "    <tr>\n",
       "      <th>1</th>\n",
       "      <td>8011</td>\n",
       "      <td>assembly_line_type_8</td>\n",
       "    </tr>\n",
       "    <tr>\n",
       "      <th>2</th>\n",
       "      <td>2597</td>\n",
       "      <td>assembly_line_type_8</td>\n",
       "    </tr>\n",
       "    <tr>\n",
       "      <th>3</th>\n",
       "      <td>5022</td>\n",
       "      <td>assembly_line_type_8</td>\n",
       "    </tr>\n",
       "    <tr>\n",
       "      <th>4</th>\n",
       "      <td>6852</td>\n",
       "      <td>assembly_line_type_8</td>\n",
       "    </tr>\n",
       "  </tbody>\n",
       "</table>\n",
       "</div>"
      ],
      "text/plain": [
       "     id    assembly_line_type\n",
       "0  6597  assembly_line_type_8\n",
       "1  8011  assembly_line_type_8\n",
       "2  2597  assembly_line_type_8\n",
       "3  5022  assembly_line_type_8\n",
       "4  6852  assembly_line_type_8"
      ]
     },
     "execution_count": 5,
     "metadata": {},
     "output_type": "execute_result"
    }
   ],
   "source": [
    "assembly_line_info.head()"
   ]
  },
  {
   "cell_type": "code",
   "execution_count": 6,
   "metadata": {},
   "outputs": [
    {
     "data": {
      "text/html": [
       "<div>\n",
       "<style scoped>\n",
       "    .dataframe tbody tr th:only-of-type {\n",
       "        vertical-align: middle;\n",
       "    }\n",
       "\n",
       "    .dataframe tbody tr th {\n",
       "        vertical-align: top;\n",
       "    }\n",
       "\n",
       "    .dataframe thead th {\n",
       "        text-align: right;\n",
       "    }\n",
       "</style>\n",
       "<table border=\"1\" class=\"dataframe\">\n",
       "  <thead>\n",
       "    <tr style=\"text-align: right;\">\n",
       "      <th></th>\n",
       "      <th>id</th>\n",
       "      <th>issue_type</th>\n",
       "    </tr>\n",
       "  </thead>\n",
       "  <tbody>\n",
       "    <tr>\n",
       "      <th>0</th>\n",
       "      <td>6597</td>\n",
       "      <td>issue_type_2</td>\n",
       "    </tr>\n",
       "    <tr>\n",
       "      <th>1</th>\n",
       "      <td>8011</td>\n",
       "      <td>issue_type_2</td>\n",
       "    </tr>\n",
       "    <tr>\n",
       "      <th>2</th>\n",
       "      <td>2597</td>\n",
       "      <td>issue_type_2</td>\n",
       "    </tr>\n",
       "    <tr>\n",
       "      <th>3</th>\n",
       "      <td>5022</td>\n",
       "      <td>issue_type_1</td>\n",
       "    </tr>\n",
       "    <tr>\n",
       "      <th>4</th>\n",
       "      <td>6852</td>\n",
       "      <td>issue_type_1</td>\n",
       "    </tr>\n",
       "  </tbody>\n",
       "</table>\n",
       "</div>"
      ],
      "text/plain": [
       "     id    issue_type\n",
       "0  6597  issue_type_2\n",
       "1  8011  issue_type_2\n",
       "2  2597  issue_type_2\n",
       "3  5022  issue_type_1\n",
       "4  6852  issue_type_1"
      ]
     },
     "execution_count": 6,
     "metadata": {},
     "output_type": "execute_result"
    }
   ],
   "source": [
    "issue_info.head()"
   ]
  },
  {
   "cell_type": "code",
   "execution_count": 7,
   "metadata": {},
   "outputs": [
    {
     "data": {
      "text/html": [
       "<div>\n",
       "<style scoped>\n",
       "    .dataframe tbody tr th:only-of-type {\n",
       "        vertical-align: middle;\n",
       "    }\n",
       "\n",
       "    .dataframe tbody tr th {\n",
       "        vertical-align: top;\n",
       "    }\n",
       "\n",
       "    .dataframe thead th {\n",
       "        text-align: right;\n",
       "    }\n",
       "</style>\n",
       "<table border=\"1\" class=\"dataframe\">\n",
       "  <thead>\n",
       "    <tr style=\"text-align: right;\">\n",
       "      <th></th>\n",
       "      <th>id</th>\n",
       "      <th>log_report_type</th>\n",
       "      <th>volume</th>\n",
       "    </tr>\n",
       "  </thead>\n",
       "  <tbody>\n",
       "    <tr>\n",
       "      <th>0</th>\n",
       "      <td>6597</td>\n",
       "      <td>log_report_type_68</td>\n",
       "      <td>6</td>\n",
       "    </tr>\n",
       "    <tr>\n",
       "      <th>1</th>\n",
       "      <td>8011</td>\n",
       "      <td>log_report_type_68</td>\n",
       "      <td>7</td>\n",
       "    </tr>\n",
       "    <tr>\n",
       "      <th>2</th>\n",
       "      <td>2597</td>\n",
       "      <td>log_report_type_68</td>\n",
       "      <td>1</td>\n",
       "    </tr>\n",
       "    <tr>\n",
       "      <th>3</th>\n",
       "      <td>5022</td>\n",
       "      <td>log_report_type_172</td>\n",
       "      <td>2</td>\n",
       "    </tr>\n",
       "    <tr>\n",
       "      <th>4</th>\n",
       "      <td>5022</td>\n",
       "      <td>log_report_type_56</td>\n",
       "      <td>1</td>\n",
       "    </tr>\n",
       "  </tbody>\n",
       "</table>\n",
       "</div>"
      ],
      "text/plain": [
       "     id      log_report_type  volume\n",
       "0  6597   log_report_type_68       6\n",
       "1  8011   log_report_type_68       7\n",
       "2  2597   log_report_type_68       1\n",
       "3  5022  log_report_type_172       2\n",
       "4  5022   log_report_type_56       1"
      ]
     },
     "execution_count": 7,
     "metadata": {},
     "output_type": "execute_result"
    }
   ],
   "source": [
    "log_report_type_data.head()"
   ]
  },
  {
   "cell_type": "code",
   "execution_count": 8,
   "metadata": {},
   "outputs": [
    {
     "data": {
      "text/html": [
       "<div>\n",
       "<style scoped>\n",
       "    .dataframe tbody tr th:only-of-type {\n",
       "        vertical-align: middle;\n",
       "    }\n",
       "\n",
       "    .dataframe tbody tr th {\n",
       "        vertical-align: top;\n",
       "    }\n",
       "\n",
       "    .dataframe thead th {\n",
       "        text-align: right;\n",
       "    }\n",
       "</style>\n",
       "<table border=\"1\" class=\"dataframe\">\n",
       "  <thead>\n",
       "    <tr style=\"text-align: right;\">\n",
       "      <th></th>\n",
       "      <th>id</th>\n",
       "      <th>car_variant</th>\n",
       "    </tr>\n",
       "  </thead>\n",
       "  <tbody>\n",
       "    <tr>\n",
       "      <th>0</th>\n",
       "      <td>6597</td>\n",
       "      <td>car_variant_11</td>\n",
       "    </tr>\n",
       "    <tr>\n",
       "      <th>1</th>\n",
       "      <td>8011</td>\n",
       "      <td>car_variant_15</td>\n",
       "    </tr>\n",
       "    <tr>\n",
       "      <th>2</th>\n",
       "      <td>2597</td>\n",
       "      <td>car_variant_15</td>\n",
       "    </tr>\n",
       "    <tr>\n",
       "      <th>3</th>\n",
       "      <td>5022</td>\n",
       "      <td>car_variant_15</td>\n",
       "    </tr>\n",
       "    <tr>\n",
       "      <th>4</th>\n",
       "      <td>5022</td>\n",
       "      <td>car_variant_11</td>\n",
       "    </tr>\n",
       "  </tbody>\n",
       "</table>\n",
       "</div>"
      ],
      "text/plain": [
       "     id     car_variant\n",
       "0  6597  car_variant_11\n",
       "1  8011  car_variant_15\n",
       "2  2597  car_variant_15\n",
       "3  5022  car_variant_15\n",
       "4  5022  car_variant_11"
      ]
     },
     "execution_count": 8,
     "metadata": {},
     "output_type": "execute_result"
    }
   ],
   "source": [
    "car_variant_data.head()"
   ]
  },
  {
   "cell_type": "code",
   "execution_count": 9,
   "metadata": {},
   "outputs": [
    {
     "name": "stdout",
     "output_type": "stream",
     "text": [
      "train_data dimention:\n",
      "\n",
      "(5904, 3)\n",
      "\n",
      "\n",
      "test_data dimention:\n",
      "\n",
      "(1477, 2)\n",
      "\n",
      "\n",
      "assembly_line_info dimention:\n",
      "\n",
      "(21076, 2)\n",
      "\n",
      "\n",
      "issue info dimention:\n",
      "\n",
      "(18552, 2)\n",
      "\n",
      "\n",
      "log_report_type_data dimention:\n",
      "\n",
      "(58671, 3)\n",
      "\n",
      "\n",
      "car variant data dimention:\n",
      "(31170, 2)\n",
      "\n",
      "\n"
     ]
    }
   ],
   "source": [
    "# Checking the dimentions of the data \n",
    "print(\"train_data dimention:\\n\")\n",
    "print(train_data.shape)\n",
    "print(\"\\n\")\n",
    "\n",
    "print(\"test_data dimention:\\n\")\n",
    "print(test_data.shape)\n",
    "print(\"\\n\")\n",
    "\n",
    "print(\"assembly_line_info dimention:\\n\")\n",
    "print(assembly_line_info.shape)\n",
    "print(\"\\n\")\n",
    "\n",
    "print(\"issue info dimention:\\n\")\n",
    "print(issue_info.shape)\n",
    "print(\"\\n\")\n",
    "\n",
    "print(\"log_report_type_data dimention:\\n\")\n",
    "print(log_report_type_data.shape)\n",
    "print(\"\\n\")\n",
    "\n",
    "print(\"car variant data dimention:\")\n",
    "print(car_variant_data.shape)\n",
    "print(\"\\n\")"
   ]
  },
  {
   "cell_type": "code",
   "execution_count": 10,
   "metadata": {},
   "outputs": [
    {
     "name": "stdout",
     "output_type": "stream",
     "text": [
      "train_data levels:\n",
      "\n",
      "id                   5904\n",
      "factory_number        876\n",
      "downtime_duration       3\n",
      "dtype: int64\n",
      "\n",
      "\n",
      "test_data levels:\n",
      "\n",
      "id                1477\n",
      "factory_number     531\n",
      "dtype: int64\n",
      "\n",
      "\n",
      "assembly_line_info levels:\n",
      "\n",
      "id                    18552\n",
      "assembly_line_type       10\n",
      "dtype: int64\n",
      "\n",
      "\n",
      "issue info levels:\n",
      "\n",
      "id            18552\n",
      "issue_type        5\n",
      "dtype: int64\n",
      "\n",
      "\n",
      "log_report_type_data levels:\n",
      "\n",
      "id                 18552\n",
      "log_report_type      386\n",
      "volume               341\n",
      "dtype: int64\n",
      "\n",
      "\n",
      "car variant data levels:\n",
      "id             18552\n",
      "car_variant       53\n",
      "dtype: int64\n",
      "\n",
      "\n"
     ]
    }
   ],
   "source": [
    "# Checking the unique levels in each data \n",
    "print(\"train_data levels:\\n\")\n",
    "print(train_data.nunique())\n",
    "print(\"\\n\")\n",
    "\n",
    "print(\"test_data levels:\\n\")\n",
    "print(test_data.nunique())\n",
    "print(\"\\n\")\n",
    "\n",
    "print(\"assembly_line_info levels:\\n\")\n",
    "print(assembly_line_info.nunique())\n",
    "print(\"\\n\")\n",
    "\n",
    "print(\"issue info levels:\\n\")\n",
    "print(issue_info.nunique())\n",
    "print(\"\\n\")\n",
    "\n",
    "print(\"log_report_type_data levels:\\n\")\n",
    "print(log_report_type_data.nunique())\n",
    "print(\"\\n\")\n",
    "\n",
    "print(\"car variant data levels:\")\n",
    "print(car_variant_data.nunique())\n",
    "print(\"\\n\")"
   ]
  },
  {
   "cell_type": "markdown",
   "metadata": {},
   "source": [
    "#### Analysing Unique Levels in each dataset.\n",
    "\n",
    "* There are **876** unique factories in `train_data`. \n",
    "* There are **531** unique factories in `test_data`. \n",
    "* There are **10** different types of `assembly lines`. \n",
    "* **5** unique issue types are there in the `issues` data. \n",
    "* There are **386** different log_report_types and 341 volumes in `log report data`.\n",
    "* Currently there are **53** types of car variant in the `car variant data`. "
   ]
  },
  {
   "cell_type": "markdown",
   "metadata": {},
   "source": [
    "## Combining Data For visualizations."
   ]
  },
  {
   "cell_type": "code",
   "execution_count": 11,
   "metadata": {},
   "outputs": [],
   "source": [
    "train_data= train_data.drop_duplicates(subset=['id'])\n",
    "assembly_line_info= assembly_line_info.drop_duplicates(subset=['id'])\n",
    "\n",
    "# Merging train data and assembly data\n",
    "df1 = pd.merge(train_data,assembly_line_info, how = 'left',on = 'id') \n",
    "issue_info= issue_info.drop_duplicates(subset=['id'])\n",
    "\n",
    "# Merging issue info\n",
    "df2 = pd.merge(df1,issue_info, how='left', on = 'id')\n",
    "log_report_type_data= log_report_type_data.drop_duplicates(subset=['id'])\n",
    "\n",
    "# Merging log report type\n",
    "df3 = pd.merge(df2,log_report_type_data, how='left',on = 'id')\n",
    "car_variant_data= car_variant_data.drop_duplicates(subset=['id'])\n",
    "\n",
    "# Merging car variant \n",
    "data = pd.merge(df3, car_variant_data, how='left',on = 'id')"
   ]
  },
  {
   "cell_type": "code",
   "execution_count": 12,
   "metadata": {},
   "outputs": [
    {
     "data": {
      "text/html": [
       "<div>\n",
       "<style scoped>\n",
       "    .dataframe tbody tr th:only-of-type {\n",
       "        vertical-align: middle;\n",
       "    }\n",
       "\n",
       "    .dataframe tbody tr th {\n",
       "        vertical-align: top;\n",
       "    }\n",
       "\n",
       "    .dataframe thead th {\n",
       "        text-align: right;\n",
       "    }\n",
       "</style>\n",
       "<table border=\"1\" class=\"dataframe\">\n",
       "  <thead>\n",
       "    <tr style=\"text-align: right;\">\n",
       "      <th></th>\n",
       "      <th>id</th>\n",
       "      <th>factory_number</th>\n",
       "      <th>downtime_duration</th>\n",
       "      <th>assembly_line_type</th>\n",
       "      <th>issue_type</th>\n",
       "      <th>log_report_type</th>\n",
       "      <th>volume</th>\n",
       "      <th>car_variant</th>\n",
       "    </tr>\n",
       "  </thead>\n",
       "  <tbody>\n",
       "    <tr>\n",
       "      <th>0</th>\n",
       "      <td>13366</td>\n",
       "      <td>factory_number_415</td>\n",
       "      <td>1</td>\n",
       "      <td>assembly_line_type_2</td>\n",
       "      <td>issue_type_4</td>\n",
       "      <td>log_report_type_312</td>\n",
       "      <td>1</td>\n",
       "      <td>car_variant_35</td>\n",
       "    </tr>\n",
       "    <tr>\n",
       "      <th>1</th>\n",
       "      <td>6783</td>\n",
       "      <td>factory_number_474</td>\n",
       "      <td>0</td>\n",
       "      <td>assembly_line_type_2</td>\n",
       "      <td>issue_type_2</td>\n",
       "      <td>log_report_type_312</td>\n",
       "      <td>2</td>\n",
       "      <td>car_variant_35</td>\n",
       "    </tr>\n",
       "    <tr>\n",
       "      <th>2</th>\n",
       "      <td>9519</td>\n",
       "      <td>factory_number_931</td>\n",
       "      <td>1</td>\n",
       "      <td>assembly_line_type_8</td>\n",
       "      <td>issue_type_2</td>\n",
       "      <td>log_report_type_203</td>\n",
       "      <td>3</td>\n",
       "      <td>car_variant_15</td>\n",
       "    </tr>\n",
       "    <tr>\n",
       "      <th>3</th>\n",
       "      <td>10202</td>\n",
       "      <td>factory_number_700</td>\n",
       "      <td>1</td>\n",
       "      <td>assembly_line_type_8</td>\n",
       "      <td>issue_type_1</td>\n",
       "      <td>log_report_type_54</td>\n",
       "      <td>1</td>\n",
       "      <td>car_variant_11</td>\n",
       "    </tr>\n",
       "    <tr>\n",
       "      <th>4</th>\n",
       "      <td>4555</td>\n",
       "      <td>factory_number_600</td>\n",
       "      <td>2</td>\n",
       "      <td>assembly_line_type_8</td>\n",
       "      <td>issue_type_2</td>\n",
       "      <td>log_report_type_82</td>\n",
       "      <td>30</td>\n",
       "      <td>car_variant_15</td>\n",
       "    </tr>\n",
       "    <tr>\n",
       "      <th>...</th>\n",
       "      <td>...</td>\n",
       "      <td>...</td>\n",
       "      <td>...</td>\n",
       "      <td>...</td>\n",
       "      <td>...</td>\n",
       "      <td>...</td>\n",
       "      <td>...</td>\n",
       "      <td>...</td>\n",
       "    </tr>\n",
       "    <tr>\n",
       "      <th>5899</th>\n",
       "      <td>1910</td>\n",
       "      <td>factory_number_403</td>\n",
       "      <td>1</td>\n",
       "      <td>assembly_line_type_2</td>\n",
       "      <td>issue_type_2</td>\n",
       "      <td>log_report_type_232</td>\n",
       "      <td>1</td>\n",
       "      <td>car_variant_34</td>\n",
       "    </tr>\n",
       "    <tr>\n",
       "      <th>5900</th>\n",
       "      <td>10475</td>\n",
       "      <td>factory_number_821</td>\n",
       "      <td>0</td>\n",
       "      <td>assembly_line_type_8</td>\n",
       "      <td>issue_type_1</td>\n",
       "      <td>log_report_type_74</td>\n",
       "      <td>4</td>\n",
       "      <td>car_variant_15</td>\n",
       "    </tr>\n",
       "    <tr>\n",
       "      <th>5901</th>\n",
       "      <td>10675</td>\n",
       "      <td>factory_number_798</td>\n",
       "      <td>2</td>\n",
       "      <td>assembly_line_type_8</td>\n",
       "      <td>issue_type_2</td>\n",
       "      <td>log_report_type_203</td>\n",
       "      <td>3</td>\n",
       "      <td>car_variant_15</td>\n",
       "    </tr>\n",
       "    <tr>\n",
       "      <th>5902</th>\n",
       "      <td>14714</td>\n",
       "      <td>factory_number_210</td>\n",
       "      <td>0</td>\n",
       "      <td>assembly_line_type_2</td>\n",
       "      <td>issue_type_2</td>\n",
       "      <td>log_report_type_232</td>\n",
       "      <td>2</td>\n",
       "      <td>car_variant_35</td>\n",
       "    </tr>\n",
       "    <tr>\n",
       "      <th>5903</th>\n",
       "      <td>6253</td>\n",
       "      <td>factory_number_1007</td>\n",
       "      <td>0</td>\n",
       "      <td>assembly_line_type_8</td>\n",
       "      <td>issue_type_2</td>\n",
       "      <td>log_report_type_201</td>\n",
       "      <td>6</td>\n",
       "      <td>car_variant_15</td>\n",
       "    </tr>\n",
       "  </tbody>\n",
       "</table>\n",
       "<p>5904 rows × 8 columns</p>\n",
       "</div>"
      ],
      "text/plain": [
       "         id       factory_number  downtime_duration    assembly_line_type  \\\n",
       "0     13366   factory_number_415                  1  assembly_line_type_2   \n",
       "1      6783   factory_number_474                  0  assembly_line_type_2   \n",
       "2      9519   factory_number_931                  1  assembly_line_type_8   \n",
       "3     10202   factory_number_700                  1  assembly_line_type_8   \n",
       "4      4555   factory_number_600                  2  assembly_line_type_8   \n",
       "...     ...                  ...                ...                   ...   \n",
       "5899   1910   factory_number_403                  1  assembly_line_type_2   \n",
       "5900  10475   factory_number_821                  0  assembly_line_type_8   \n",
       "5901  10675   factory_number_798                  2  assembly_line_type_8   \n",
       "5902  14714   factory_number_210                  0  assembly_line_type_2   \n",
       "5903   6253  factory_number_1007                  0  assembly_line_type_8   \n",
       "\n",
       "        issue_type      log_report_type  volume     car_variant  \n",
       "0     issue_type_4  log_report_type_312       1  car_variant_35  \n",
       "1     issue_type_2  log_report_type_312       2  car_variant_35  \n",
       "2     issue_type_2  log_report_type_203       3  car_variant_15  \n",
       "3     issue_type_1   log_report_type_54       1  car_variant_11  \n",
       "4     issue_type_2   log_report_type_82      30  car_variant_15  \n",
       "...            ...                  ...     ...             ...  \n",
       "5899  issue_type_2  log_report_type_232       1  car_variant_34  \n",
       "5900  issue_type_1   log_report_type_74       4  car_variant_15  \n",
       "5901  issue_type_2  log_report_type_203       3  car_variant_15  \n",
       "5902  issue_type_2  log_report_type_232       2  car_variant_35  \n",
       "5903  issue_type_2  log_report_type_201       6  car_variant_15  \n",
       "\n",
       "[5904 rows x 8 columns]"
      ]
     },
     "execution_count": 12,
     "metadata": {},
     "output_type": "execute_result"
    }
   ],
   "source": [
    "data"
   ]
  },
  {
   "cell_type": "markdown",
   "metadata": {},
   "source": [
    "### Target Variable Destribution"
   ]
  },
  {
   "cell_type": "code",
   "execution_count": 13,
   "metadata": {},
   "outputs": [
    {
     "data": {
      "image/png": "[encoded data removed]",
      "text/plain": [
       "<Figure size 1440x432 with 1 Axes>"
      ]
     },
     "metadata": {},
     "output_type": "display_data"
    }
   ],
   "source": [
    "Y = data.downtime_duration.value_counts()\n",
    "plt.figure(figsize=(20,6))\n",
    "plt.style.use('ggplot')\n",
    "Y.plot.pie(autopct=\"%.1f%%\",explode=[0.05]*3)\n",
    "plt.title('Percentage of Different Downtime Durations', fontsize=20)\n",
    "plt.show()"
   ]
  },
  {
   "cell_type": "markdown",
   "metadata": {},
   "source": [
    "* According to the data, **64.8%** have low downtime (15 minutes to 1 hour), followed by **25.3%** downtime which lasts anywhere between 1 hour and 24 hours and **9.8%** for long downtimes that can last from 24 hours to sometimes even several days."
   ]
  },
  {
   "cell_type": "markdown",
   "metadata": {},
   "source": [
    "### Top 10 factories most prone to downtime. "
   ]
  },
  {
   "cell_type": "code",
   "execution_count": 14,
   "metadata": {},
   "outputs": [
    {
     "data": {
      "image/png": "[encoded data removed]",
      "text/plain": [
       "<Figure size 1440x432 with 1 Axes>"
      ]
     },
     "metadata": {},
     "output_type": "display_data"
    }
   ],
   "source": [
    "X = pd.DataFrame(data.groupby(['factory_number'])['downtime_duration'].sum())\n",
    "X = X.sort_values('downtime_duration', ascending=False)\n",
    "X = X[0:10].reset_index()\n",
    "X.sort_values('downtime_duration',inplace = True, ascending = False)\n",
    "plt.figure(figsize=(20,6))\n",
    "plt.style.use('ggplot')\n",
    "sns.barplot('factory_number','downtime_duration',data = X,palette='crest')\n",
    "plt.ylabel('Total Downtime', fontsize=20)\n",
    "plt.xlabel('Factory Number', fontsize=20)\n",
    "plt.title('Top 10 Factories thar are most prone to downtime', fontsize=20)\n",
    "plt.show()"
   ]
  },
  {
   "cell_type": "markdown",
   "metadata": {},
   "source": [
    "#### Top factories that are most prone to downtime are - \n",
    "\n",
    " * Factory Number - **1107**\n",
    " * Factory Number - **821**\n",
    " * Factory Number - **1100**\n",
    " * Factory Number - **600**\n",
    " * Factory Number - **734**"
   ]
  },
  {
   "cell_type": "markdown",
   "metadata": {},
   "source": [
    "#### Assembly line type that are suspected of long downtime duration."
   ]
  },
  {
   "cell_type": "code",
   "execution_count": 15,
   "metadata": {},
   "outputs": [
    {
     "data": {
      "image/png": "[encoded data removed]",
      "text/plain": [
       "<Figure size 720x432 with 1 Axes>"
      ]
     },
     "metadata": {},
     "output_type": "display_data"
    }
   ],
   "source": [
    "X = pd.DataFrame(data.groupby(['assembly_line_type'])['downtime_duration'].sum())\n",
    "X = X.sort_values('downtime_duration', ascending=False)\n",
    "X = X[0:3].reset_index()\n",
    "X.sort_values('downtime_duration',inplace = True,ascending = False)\n",
    "plt.figure(figsize=(10,6))\n",
    "plt.style.use('ggplot')\n",
    "sns.barplot('assembly_line_type','downtime_duration',data = X,palette='flare')\n",
    "plt.ylabel('Total Downtime', fontsize=15)\n",
    "plt.xlabel('Assembly Line Type', fontsize=15)\n",
    "plt.title('Top 3 Assembly Line Type that are suspected of long downtime duration.', fontsize=15)\n",
    "plt.show()"
   ]
  },
  {
   "cell_type": "markdown",
   "metadata": {},
   "source": [
    "* Assembly Line Type `8` &  Assembly Line Type `2` are responsible for majority of the downtime. "
   ]
  },
  {
   "cell_type": "markdown",
   "metadata": {},
   "source": [
    "#### Car Varients that are effecting the downtime duration. "
   ]
  },
  {
   "cell_type": "code",
   "execution_count": 16,
   "metadata": {},
   "outputs": [
    {
     "data": {
      "image/png": "[encoded data removed]",
      "text/plain": [
       "<Figure size 720x432 with 1 Axes>"
      ]
     },
     "metadata": {},
     "output_type": "display_data"
    }
   ],
   "source": [
    "X = pd.DataFrame(data.groupby(['car_variant'])['downtime_duration'].sum())\n",
    "X = X.sort_values('downtime_duration', ascending=False)\n",
    "X = X[0:3].reset_index()\n",
    "X.sort_values('downtime_duration',inplace = True,ascending = False)\n",
    "plt.figure(figsize=(10,6))\n",
    "plt.style.use('ggplot')\n",
    "sns.barplot('car_variant','downtime_duration',data = X,palette='crest')\n",
    "plt.ylabel('Total Downtime', fontsize=15)\n",
    "plt.xlabel('Car Variant', fontsize=15)\n",
    "plt.title('Top 3 Car Variants that are suspected of long downtime duration.', fontsize=15)\n",
    "plt.show()"
   ]
  },
  {
   "cell_type": "markdown",
   "metadata": {},
   "source": [
    "* Car Variant `11` and Car variant `15` are also responsible for majority of the downtime. "
   ]
  },
  {
   "cell_type": "markdown",
   "metadata": {},
   "source": [
    "_END_"
   ]
  }
 ],
 "metadata": {
  "kernelspec": {
   "display_name": "Python 3",
   "language": "python",
   "name": "python3"
  },
  "language_info": {
   "codemirror_mode": {
    "name": "ipython",
    "version": 3
   },
   "file_extension": ".py",
   "mimetype": "text/x-python",
   "name": "python",
   "nbconvert_exporter": "python",
   "pygments_lexer": "ipython3",
   "version": "3.8.5"
  }
 },
 "nbformat": 4,
 "nbformat_minor": 4
}
