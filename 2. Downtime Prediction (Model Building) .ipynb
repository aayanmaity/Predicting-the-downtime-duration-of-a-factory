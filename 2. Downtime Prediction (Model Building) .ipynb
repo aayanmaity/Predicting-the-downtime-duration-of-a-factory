{
 "cells": [
  {
   "cell_type": "markdown",
   "metadata": {},
   "source": [
    "# Loading the Important Libaries "
   ]
  },
  {
   "cell_type": "code",
   "execution_count": 20,
   "metadata": {},
   "outputs": [],
   "source": [
    "import pandas as pd\n",
    "import numpy as np \n",
    "import warnings\n",
    "warnings.filterwarnings('ignore')\n",
    "\n",
    "# For Model Building\n",
    "from sklearn.preprocessing import StandardScaler\n",
    "from sklearn.model_selection import train_test_split, GridSearchCV, cross_val_score, StratifiedKFold\n",
    "from sklearn.metrics import f1_score\n",
    "from sklearn.tree import DecisionTreeClassifier\n",
    "from sklearn.svm import SVC\n",
    "from sklearn.ensemble import RandomForestClassifier, AdaBoostClassifier,GradientBoostingClassifier\n",
    "from xgboost import XGBClassifier"
   ]
  },
  {
   "cell_type": "markdown",
   "metadata": {},
   "source": [
    "# Loading Datasets"
   ]
  },
  {
   "cell_type": "code",
   "execution_count": 21,
   "metadata": {},
   "outputs": [],
   "source": [
    "# Loading the data into the Environment# Loading Data \n",
    "\n",
    "train_data = pd.read_csv(\"train_data.csv\")\n",
    "\n",
    "test_data = pd.read_csv(\"test_data.csv\")\n",
    "\n",
    "assembly_line_info = pd.read_csv(\"assembly_line_info.csv\")\n",
    "\n",
    "issue_info = pd.read_csv(\"issue_info.csv\")\n",
    "\n",
    "log_report_type_data = pd.read_csv(\"log_report_type_data.csv\")\n",
    "\n",
    "car_variant_data = pd.read_csv(\"car_variant_data.csv\")"
   ]
  },
  {
   "cell_type": "markdown",
   "metadata": {},
   "source": [
    "## Merging Datasets"
   ]
  },
  {
   "cell_type": "code",
   "execution_count": 22,
   "metadata": {},
   "outputs": [],
   "source": [
    "# Merging different dataset and creating the final train dataset.\n",
    "\n",
    "train_data= train_data.drop_duplicates(subset=['id'])\n",
    "assembly_line_info= assembly_line_info.drop_duplicates(subset=['id'])\n",
    "\n",
    "# Merging train data and assembly data\n",
    "df1 = pd.merge(train_data,assembly_line_info, how = 'left',on = 'id') \n",
    "issue_info= issue_info.drop_duplicates(subset=['id'])\n",
    "\n",
    "# Merging issue info\n",
    "df2 = pd.merge(df1,issue_info, how='left', on = 'id')\n",
    "log_report_type_data= log_report_type_data.drop_duplicates(subset=['id'])\n",
    "\n",
    "# Merging log report type\n",
    "df3 = pd.merge(df2,log_report_type_data, how='left',on = 'id')\n",
    "car_variant_data= car_variant_data.drop_duplicates(subset=['id'])\n",
    "\n",
    "# Merging car variant \n",
    "data = pd.merge(df3, car_variant_data, how='left',on = 'id')"
   ]
  },
  {
   "cell_type": "markdown",
   "metadata": {},
   "source": [
    "## Keeping only the numeric part of the categorical attributes."
   ]
  },
  {
   "cell_type": "code",
   "execution_count": 23,
   "metadata": {},
   "outputs": [
    {
     "data": {
      "text/html": [
       "<div>\n",
       "<style scoped>\n",
       "    .dataframe tbody tr th:only-of-type {\n",
       "        vertical-align: middle;\n",
       "    }\n",
       "\n",
       "    .dataframe tbody tr th {\n",
       "        vertical-align: top;\n",
       "    }\n",
       "\n",
       "    .dataframe thead th {\n",
       "        text-align: right;\n",
       "    }\n",
       "</style>\n",
       "<table border=\"1\" class=\"dataframe\">\n",
       "  <thead>\n",
       "    <tr style=\"text-align: right;\">\n",
       "      <th></th>\n",
       "      <th>id</th>\n",
       "      <th>factory_number</th>\n",
       "      <th>downtime_duration</th>\n",
       "      <th>assembly_line_type</th>\n",
       "      <th>issue_type</th>\n",
       "      <th>log_report_type</th>\n",
       "      <th>volume</th>\n",
       "      <th>car_variant</th>\n",
       "    </tr>\n",
       "  </thead>\n",
       "  <tbody>\n",
       "    <tr>\n",
       "      <th>0</th>\n",
       "      <td>13366</td>\n",
       "      <td>415</td>\n",
       "      <td>1</td>\n",
       "      <td>2</td>\n",
       "      <td>4</td>\n",
       "      <td>312</td>\n",
       "      <td>1</td>\n",
       "      <td>35</td>\n",
       "    </tr>\n",
       "    <tr>\n",
       "      <th>1</th>\n",
       "      <td>6783</td>\n",
       "      <td>474</td>\n",
       "      <td>0</td>\n",
       "      <td>2</td>\n",
       "      <td>2</td>\n",
       "      <td>312</td>\n",
       "      <td>2</td>\n",
       "      <td>35</td>\n",
       "    </tr>\n",
       "    <tr>\n",
       "      <th>2</th>\n",
       "      <td>9519</td>\n",
       "      <td>931</td>\n",
       "      <td>1</td>\n",
       "      <td>8</td>\n",
       "      <td>2</td>\n",
       "      <td>203</td>\n",
       "      <td>3</td>\n",
       "      <td>15</td>\n",
       "    </tr>\n",
       "    <tr>\n",
       "      <th>3</th>\n",
       "      <td>10202</td>\n",
       "      <td>700</td>\n",
       "      <td>1</td>\n",
       "      <td>8</td>\n",
       "      <td>1</td>\n",
       "      <td>54</td>\n",
       "      <td>1</td>\n",
       "      <td>11</td>\n",
       "    </tr>\n",
       "    <tr>\n",
       "      <th>4</th>\n",
       "      <td>4555</td>\n",
       "      <td>600</td>\n",
       "      <td>2</td>\n",
       "      <td>8</td>\n",
       "      <td>2</td>\n",
       "      <td>82</td>\n",
       "      <td>30</td>\n",
       "      <td>15</td>\n",
       "    </tr>\n",
       "  </tbody>\n",
       "</table>\n",
       "</div>"
      ],
      "text/plain": [
       "      id factory_number  downtime_duration assembly_line_type issue_type  \\\n",
       "0  13366            415                  1                  2          4   \n",
       "1   6783            474                  0                  2          2   \n",
       "2   9519            931                  1                  8          2   \n",
       "3  10202            700                  1                  8          1   \n",
       "4   4555            600                  2                  8          2   \n",
       "\n",
       "  log_report_type  volume car_variant  \n",
       "0             312       1          35  \n",
       "1             312       2          35  \n",
       "2             203       3          15  \n",
       "3              54       1          11  \n",
       "4              82      30          15  "
      ]
     },
     "execution_count": 23,
     "metadata": {},
     "output_type": "execute_result"
    }
   ],
   "source": [
    "def df_numeric(df):\n",
    "    for c in df.columns:\n",
    "        if df[c].dtype == 'object':\n",
    "            df[c] = df[c].str.extract('([0-9]+)',expand=False)\n",
    "    return df\n",
    "\n",
    "df_numeric(data)\n",
    "\n",
    "data.head()"
   ]
  },
  {
   "cell_type": "code",
   "execution_count": 24,
   "metadata": {},
   "outputs": [],
   "source": [
    "# Splitting my target and independent features \n",
    "\n",
    "X = data.drop(['downtime_duration','id'],axis = 1)\n",
    "y = data['downtime_duration']"
   ]
  },
  {
   "cell_type": "markdown",
   "metadata": {},
   "source": [
    "## Encoding Categorical Features with Target Encoding"
   ]
  },
  {
   "cell_type": "code",
   "execution_count": 25,
   "metadata": {},
   "outputs": [],
   "source": [
    "import category_encoders as TR\n",
    "New_X = TR.TargetEncoder().fit_transform(X,y)"
   ]
  },
  {
   "cell_type": "code",
   "execution_count": 26,
   "metadata": {},
   "outputs": [
    {
     "data": {
      "text/html": [
       "<div>\n",
       "<style scoped>\n",
       "    .dataframe tbody tr th:only-of-type {\n",
       "        vertical-align: middle;\n",
       "    }\n",
       "\n",
       "    .dataframe tbody tr th {\n",
       "        vertical-align: top;\n",
       "    }\n",
       "\n",
       "    .dataframe thead th {\n",
       "        text-align: right;\n",
       "    }\n",
       "</style>\n",
       "<table border=\"1\" class=\"dataframe\">\n",
       "  <thead>\n",
       "    <tr style=\"text-align: right;\">\n",
       "      <th></th>\n",
       "      <th>factory_number</th>\n",
       "      <th>assembly_line_type</th>\n",
       "      <th>issue_type</th>\n",
       "      <th>log_report_type</th>\n",
       "      <th>volume</th>\n",
       "      <th>car_variant</th>\n",
       "    </tr>\n",
       "  </thead>\n",
       "  <tbody>\n",
       "    <tr>\n",
       "      <th>0</th>\n",
       "      <td>0.793708</td>\n",
       "      <td>0.215511</td>\n",
       "      <td>0.127451</td>\n",
       "      <td>0.158621</td>\n",
       "      <td>1</td>\n",
       "      <td>0.136528</td>\n",
       "    </tr>\n",
       "    <tr>\n",
       "      <th>1</th>\n",
       "      <td>0.000020</td>\n",
       "      <td>0.215511</td>\n",
       "      <td>0.328696</td>\n",
       "      <td>0.158621</td>\n",
       "      <td>2</td>\n",
       "      <td>0.136528</td>\n",
       "    </tr>\n",
       "    <tr>\n",
       "      <th>2</th>\n",
       "      <td>0.482759</td>\n",
       "      <td>0.650590</td>\n",
       "      <td>0.328696</td>\n",
       "      <td>1.269481</td>\n",
       "      <td>3</td>\n",
       "      <td>0.868077</td>\n",
       "    </tr>\n",
       "    <tr>\n",
       "      <th>3</th>\n",
       "      <td>0.793708</td>\n",
       "      <td>0.650590</td>\n",
       "      <td>0.616296</td>\n",
       "      <td>0.600000</td>\n",
       "      <td>1</td>\n",
       "      <td>0.526923</td>\n",
       "    </tr>\n",
       "    <tr>\n",
       "      <th>4</th>\n",
       "      <td>1.090909</td>\n",
       "      <td>0.650590</td>\n",
       "      <td>0.328696</td>\n",
       "      <td>0.880808</td>\n",
       "      <td>30</td>\n",
       "      <td>0.868077</td>\n",
       "    </tr>\n",
       "  </tbody>\n",
       "</table>\n",
       "</div>"
      ],
      "text/plain": [
       "   factory_number  assembly_line_type  issue_type  log_report_type  volume  \\\n",
       "0        0.793708            0.215511    0.127451         0.158621       1   \n",
       "1        0.000020            0.215511    0.328696         0.158621       2   \n",
       "2        0.482759            0.650590    0.328696         1.269481       3   \n",
       "3        0.793708            0.650590    0.616296         0.600000       1   \n",
       "4        1.090909            0.650590    0.328696         0.880808      30   \n",
       "\n",
       "   car_variant  \n",
       "0     0.136528  \n",
       "1     0.136528  \n",
       "2     0.868077  \n",
       "3     0.526923  \n",
       "4     0.868077  "
      ]
     },
     "execution_count": 26,
     "metadata": {},
     "output_type": "execute_result"
    }
   ],
   "source": [
    "New_X.head()"
   ]
  },
  {
   "cell_type": "markdown",
   "metadata": {},
   "source": [
    "## Standardizing 'volume' feature"
   ]
  },
  {
   "cell_type": "code",
   "execution_count": 27,
   "metadata": {},
   "outputs": [],
   "source": [
    "New_X = New_X.values \n",
    "std = StandardScaler()\n",
    "New_X = std.fit_transform(New_X)\n",
    "New_X = pd.DataFrame(New_X)"
   ]
  },
  {
   "cell_type": "markdown",
   "metadata": {},
   "source": [
    "## Train/Test Split"
   ]
  },
  {
   "cell_type": "code",
   "execution_count": 28,
   "metadata": {},
   "outputs": [],
   "source": [
    "X_train,X_test,y_train,y_test = train_test_split(New_X,y,test_size = 0.3,random_state = 123) "
   ]
  },
  {
   "cell_type": "code",
   "execution_count": 29,
   "metadata": {},
   "outputs": [],
   "source": [
    "y_train = y_train.astype('category')\n",
    "y_test = y_test.astype('category')"
   ]
  },
  {
   "cell_type": "markdown",
   "metadata": {},
   "source": [
    "## Model Building"
   ]
  },
  {
   "cell_type": "code",
   "execution_count": 30,
   "metadata": {},
   "outputs": [
    {
     "name": "stdout",
     "output_type": "stream",
     "text": [
      "[14:49:15] WARNING: C:/Users/Administrator/workspace/xgboost-win64_release_1.3.0/src/learner.cc:1061: Starting in XGBoost 1.3.0, the default evaluation metric used with the objective 'multi:softprob' was changed from 'merror' to 'mlogloss'. Explicitly set eval_metric if you'd like to restore the old behavior.\n"
     ]
    }
   ],
   "source": [
    "# Decision Tree Classifier\n",
    "\n",
    "DecisionTree = DecisionTreeClassifier()\n",
    "\n",
    "# SVM\n",
    "\n",
    "SVM = SVC()\n",
    "\n",
    "# Random Forest Classifier\n",
    "\n",
    "RandomForest = RandomForestClassifier()\n",
    "\n",
    "# Grdient Boosting\n",
    "\n",
    "GradientBoosting = GradientBoostingClassifier()\n",
    "\n",
    "# Ada Boosting \n",
    "\n",
    "AdaBoosting = AdaBoostClassifier()\n",
    "\n",
    "#XGBoost \n",
    "\n",
    "XGB_Classifier = XGBClassifier()\n",
    "\n",
    "\n",
    "\n",
    "models = [DecisionTree,SVM,RandomForest,GradientBoosting,AdaBoosting,XGB_Classifier]\n",
    "\n",
    "lf = pd.DataFrame(columns=[\"MODEL\",\"Train-F1SCORE\", \"Test-F1SCORE\"])\n",
    "for i in range(len(models)):\n",
    "    \n",
    "\n",
    "    clf = models[i]\n",
    "    clf = clf.fit(X_train, y_train)\n",
    "    y_train_predicted = clf.predict(X_train)\n",
    "    y_test_predicted = clf.predict(X_test)\n",
    "    f1_train =f1_score(y_train, y_train_predicted,average = 'macro')\n",
    "    f1_test =f1_score(y_test, y_test_predicted,average = 'macro')\n",
    "       \n",
    "\n",
    "    list1 = [clf.__class__.__name__,f1_train,f1_test]\n",
    "\n",
    "    lf.loc[i] = list1"
   ]
  },
  {
   "cell_type": "code",
   "execution_count": 31,
   "metadata": {},
   "outputs": [
    {
     "data": {
      "text/html": [
       "<div>\n",
       "<style scoped>\n",
       "    .dataframe tbody tr th:only-of-type {\n",
       "        vertical-align: middle;\n",
       "    }\n",
       "\n",
       "    .dataframe tbody tr th {\n",
       "        vertical-align: top;\n",
       "    }\n",
       "\n",
       "    .dataframe thead th {\n",
       "        text-align: right;\n",
       "    }\n",
       "</style>\n",
       "<table border=\"1\" class=\"dataframe\">\n",
       "  <thead>\n",
       "    <tr style=\"text-align: right;\">\n",
       "      <th></th>\n",
       "      <th>MODEL</th>\n",
       "      <th>Train-F1SCORE</th>\n",
       "      <th>Test-F1SCORE</th>\n",
       "    </tr>\n",
       "  </thead>\n",
       "  <tbody>\n",
       "    <tr>\n",
       "      <th>0</th>\n",
       "      <td>DecisionTreeClassifier</td>\n",
       "      <td>0.955897</td>\n",
       "      <td>0.577753</td>\n",
       "    </tr>\n",
       "    <tr>\n",
       "      <th>1</th>\n",
       "      <td>SVC</td>\n",
       "      <td>0.625346</td>\n",
       "      <td>0.652082</td>\n",
       "    </tr>\n",
       "    <tr>\n",
       "      <th>2</th>\n",
       "      <td>RandomForestClassifier</td>\n",
       "      <td>0.956690</td>\n",
       "      <td>0.635143</td>\n",
       "    </tr>\n",
       "    <tr>\n",
       "      <th>3</th>\n",
       "      <td>GradientBoostingClassifier</td>\n",
       "      <td>0.694095</td>\n",
       "      <td>0.665945</td>\n",
       "    </tr>\n",
       "    <tr>\n",
       "      <th>4</th>\n",
       "      <td>AdaBoostClassifier</td>\n",
       "      <td>0.612052</td>\n",
       "      <td>0.611665</td>\n",
       "    </tr>\n",
       "    <tr>\n",
       "      <th>5</th>\n",
       "      <td>XGBClassifier</td>\n",
       "      <td>0.876292</td>\n",
       "      <td>0.640814</td>\n",
       "    </tr>\n",
       "  </tbody>\n",
       "</table>\n",
       "</div>"
      ],
      "text/plain": [
       "                        MODEL  Train-F1SCORE  Test-F1SCORE\n",
       "0      DecisionTreeClassifier       0.955897      0.577753\n",
       "1                         SVC       0.625346      0.652082\n",
       "2      RandomForestClassifier       0.956690      0.635143\n",
       "3  GradientBoostingClassifier       0.694095      0.665945\n",
       "4          AdaBoostClassifier       0.612052      0.611665\n",
       "5               XGBClassifier       0.876292      0.640814"
      ]
     },
     "execution_count": 31,
     "metadata": {},
     "output_type": "execute_result"
    }
   ],
   "source": [
    "lf"
   ]
  },
  {
   "cell_type": "markdown",
   "metadata": {},
   "source": [
    "# Random Forest Grid Search "
   ]
  },
  {
   "cell_type": "code",
   "execution_count": 32,
   "metadata": {},
   "outputs": [],
   "source": [
    "gkf = StratifiedKFold(n_splits=10, shuffle=True, random_state=42).split(X=X_train, y=y_train)\n",
    "\n",
    "param_grid = {\"n_estimators\" : [50, 100,200,500],\n",
    "              \"max_depth\" : [1,5,6,7],\n",
    "              \"max_features\" : [3, 5],\n",
    "              \"min_samples_leaf\" : [1, 2, 4]}\n",
    "\n",
    "RFmodel = RandomForestClassifier()\n",
    "\n",
    "rf_grid = GridSearchCV(RFmodel, param_grid, cv=gkf,verbose = 0, n_jobs = -1)"
   ]
  },
  {
   "cell_type": "code",
   "execution_count": 33,
   "metadata": {},
   "outputs": [
    {
     "data": {
      "text/plain": [
       "GridSearchCV(cv=<generator object _BaseKFold.split at 0x000001DEE97E5CF0>,\n",
       "             error_score=nan,\n",
       "             estimator=RandomForestClassifier(bootstrap=True, ccp_alpha=0.0,\n",
       "                                              class_weight=None,\n",
       "                                              criterion='gini', max_depth=None,\n",
       "                                              max_features='auto',\n",
       "                                              max_leaf_nodes=None,\n",
       "                                              max_samples=None,\n",
       "                                              min_impurity_decrease=0.0,\n",
       "                                              min_impurity_split=None,\n",
       "                                              min_samples_leaf=1,\n",
       "                                              min_samples_split=2,\n",
       "                                              min_weight_fraction_leaf=0.0,\n",
       "                                              n_estimators=100, n_jobs=None,\n",
       "                                              oob_score=False,\n",
       "                                              random_state=None, verbose=0,\n",
       "                                              warm_start=False),\n",
       "             iid='deprecated', n_jobs=-1,\n",
       "             param_grid={'max_depth': [1, 5, 6, 7], 'max_features': [3, 5],\n",
       "                         'min_samples_leaf': [1, 2, 4],\n",
       "                         'n_estimators': [50, 100, 200, 500]},\n",
       "             pre_dispatch='2*n_jobs', refit=True, return_train_score=False,\n",
       "             scoring=None, verbose=0)"
      ]
     },
     "execution_count": 33,
     "metadata": {},
     "output_type": "execute_result"
    }
   ],
   "source": [
    "rf_grid.fit(X_train, y_train)"
   ]
  },
  {
   "cell_type": "code",
   "execution_count": 34,
   "metadata": {},
   "outputs": [
    {
     "name": "stdout",
     "output_type": "stream",
     "text": [
      "0.6999877086385822\n",
      "0.6586018174006973\n"
     ]
    }
   ],
   "source": [
    "train_pred = rf_grid.predict(X_train)\n",
    "test_pred = rf_grid.predict(X_test)\n",
    "\n",
    "f1_train =f1_score(y_train, train_pred,average = 'macro')\n",
    "f1_test =f1_score(y_test, test_pred,average = 'macro')\n",
    "\n",
    "print(f1_train)\n",
    "print(f1_test)"
   ]
  },
  {
   "cell_type": "markdown",
   "metadata": {},
   "source": [
    "# XG Boost Grid Search "
   ]
  },
  {
   "cell_type": "code",
   "execution_count": 35,
   "metadata": {},
   "outputs": [],
   "source": [
    "gkf = StratifiedKFold(n_splits=10, shuffle=True, random_state=42).split(X=X_train, y=y_train)\n",
    "\n",
    "\n",
    "param_grid = {\n",
    "        'learning_rate': [0.01, 0.1,0.001],\n",
    "        'max_depth': [3, 5, 7, 10],\n",
    "        'min_child_weight': [1, 3, 5],\n",
    "        'subsample': [0.5, 0.7],\n",
    "        'colsample_bytree': [0.5, 0.7],\n",
    "        'n_estimators' : [100, 200, 500],\n",
    "    }"
   ]
  },
  {
   "cell_type": "code",
   "execution_count": 36,
   "metadata": {},
   "outputs": [],
   "source": [
    "XG = XGBClassifier(objective= 'multi:softmax')\n",
    "\n",
    "xg_grid = GridSearchCV(XG,param_grid, cv=gkf,verbose = 0,n_jobs = -1)"
   ]
  },
  {
   "cell_type": "code",
   "execution_count": 37,
   "metadata": {},
   "outputs": [
    {
     "name": "stdout",
     "output_type": "stream",
     "text": [
      "[15:23:58] WARNING: C:/Users/Administrator/workspace/xgboost-win64_release_1.3.0/src/learner.cc:1061: Starting in XGBoost 1.3.0, the default evaluation metric used with the objective 'multi:softprob' was changed from 'merror' to 'mlogloss'. Explicitly set eval_metric if you'd like to restore the old behavior.\n"
     ]
    },
    {
     "data": {
      "text/plain": [
       "GridSearchCV(cv=<generator object _BaseKFold.split at 0x000001DEE9D13EB0>,\n",
       "             error_score=nan,\n",
       "             estimator=XGBClassifier(base_score=None, booster=None,\n",
       "                                     colsample_bylevel=None,\n",
       "                                     colsample_bynode=None,\n",
       "                                     colsample_bytree=None, gamma=None,\n",
       "                                     gpu_id=None, importance_type='gain',\n",
       "                                     interaction_constraints=None,\n",
       "                                     learning_rate=None, max_delta_step=None,\n",
       "                                     max_depth=None, min_child_weigh...\n",
       "                                     use_label_encoder=True,\n",
       "                                     validate_parameters=None, verbosity=None),\n",
       "             iid='deprecated', n_jobs=-1,\n",
       "             param_grid={'colsample_bytree': [0.5, 0.7],\n",
       "                         'learning_rate': [0.01, 0.1, 0.001],\n",
       "                         'max_depth': [3, 5, 7, 10],\n",
       "                         'min_child_weight': [1, 3, 5],\n",
       "                         'n_estimators': [100, 200, 500],\n",
       "                         'subsample': [0.5, 0.7]},\n",
       "             pre_dispatch='2*n_jobs', refit=True, return_train_score=False,\n",
       "             scoring=None, verbose=0)"
      ]
     },
     "execution_count": 37,
     "metadata": {},
     "output_type": "execute_result"
    }
   ],
   "source": [
    "xg_grid.fit(X_train, y_train)"
   ]
  },
  {
   "cell_type": "code",
   "execution_count": 38,
   "metadata": {},
   "outputs": [
    {
     "name": "stdout",
     "output_type": "stream",
     "text": [
      "0.7104316814721017\n",
      "0.6503132655233907\n"
     ]
    }
   ],
   "source": [
    "train_pred = xg_grid.predict(X_train)\n",
    "test_pred = xg_grid.predict(X_test)\n",
    "\n",
    "\n",
    "f1_train =f1_score(y_train, train_pred,average = 'macro')\n",
    "f1_test =f1_score(y_test, test_pred,average = 'macro')\n",
    "\n",
    "print(f1_train)\n",
    "print(f1_test)"
   ]
  },
  {
   "cell_type": "markdown",
   "metadata": {},
   "source": [
    "# Gradient Boosting Grid Search "
   ]
  },
  {
   "cell_type": "code",
   "execution_count": 39,
   "metadata": {},
   "outputs": [],
   "source": [
    "gkf = StratifiedKFold(n_splits=10, shuffle=True, random_state=42).split(X=X_train, y=y_train)\n",
    "\n",
    "\n",
    "param_grid = {\n",
    "        'learning_rate': [ 0.1],\n",
    "        'max_depth': [3, 5, 6,7,8, 10],\n",
    "        'subsample': [0.5, 0.7],\n",
    "        'n_estimators' : [100, 200, 500,1000],\n",
    "    }"
   ]
  },
  {
   "cell_type": "code",
   "execution_count": 40,
   "metadata": {},
   "outputs": [],
   "source": [
    "GB = GradientBoostingClassifier()\n",
    "\n",
    "gb_grid = GridSearchCV(GB,param_grid, cv=2,verbose = 0,n_jobs = -1)"
   ]
  },
  {
   "cell_type": "code",
   "execution_count": 41,
   "metadata": {},
   "outputs": [
    {
     "data": {
      "text/plain": [
       "GridSearchCV(cv=2, error_score=nan,\n",
       "             estimator=GradientBoostingClassifier(ccp_alpha=0.0,\n",
       "                                                  criterion='friedman_mse',\n",
       "                                                  init=None, learning_rate=0.1,\n",
       "                                                  loss='deviance', max_depth=3,\n",
       "                                                  max_features=None,\n",
       "                                                  max_leaf_nodes=None,\n",
       "                                                  min_impurity_decrease=0.0,\n",
       "                                                  min_impurity_split=None,\n",
       "                                                  min_samples_leaf=1,\n",
       "                                                  min_samples_split=2,\n",
       "                                                  min_weight_fraction_leaf=0.0,\n",
       "                                                  n_estimators=100,\n",
       "                                                  n_iter_no_c...=None,\n",
       "                                                  presort='deprecated',\n",
       "                                                  random_state=None,\n",
       "                                                  subsample=1.0, tol=0.0001,\n",
       "                                                  validation_fraction=0.1,\n",
       "                                                  verbose=0, warm_start=False),\n",
       "             iid='deprecated', n_jobs=-1,\n",
       "             param_grid={'learning_rate': [0.1],\n",
       "                         'max_depth': [3, 5, 6, 7, 8, 10],\n",
       "                         'n_estimators': [100, 200, 500, 1000],\n",
       "                         'subsample': [0.5, 0.7]},\n",
       "             pre_dispatch='2*n_jobs', refit=True, return_train_score=False,\n",
       "             scoring=None, verbose=0)"
      ]
     },
     "execution_count": 41,
     "metadata": {},
     "output_type": "execute_result"
    }
   ],
   "source": [
    "gb_grid.fit(X_train, y_train)"
   ]
  },
  {
   "cell_type": "code",
   "execution_count": 42,
   "metadata": {},
   "outputs": [
    {
     "name": "stdout",
     "output_type": "stream",
     "text": [
      "0.6993212328134302\n",
      "0.6632401647301333\n"
     ]
    }
   ],
   "source": [
    "train_pred = gb_grid.predict(X_train)\n",
    "test_pred = gb_grid.predict(X_test)\n",
    "\n",
    "\n",
    "f1_train =f1_score(y_train, train_pred,average = 'macro')\n",
    "f1_test =f1_score(y_test, test_pred,average = 'macro')\n",
    "\n",
    "print(f1_train)\n",
    "print(f1_test)"
   ]
  }
 ],
 "metadata": {
  "kernelspec": {
   "display_name": "Python 3",
   "language": "python",
   "name": "python3"
  },
  "language_info": {
   "codemirror_mode": {
    "name": "ipython",
    "version": 3
   },
   "file_extension": ".py",
   "mimetype": "text/x-python",
   "name": "python",
   "nbconvert_exporter": "python",
   "pygments_lexer": "ipython3",
   "version": "3.8.5"
  }
 },
 "nbformat": 4,
 "nbformat_minor": 4
}
